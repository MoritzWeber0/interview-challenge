{
 "cells": [
  {
   "cell_type": "markdown",
   "metadata": {},
   "source": [
    "# Python Intern Challenges 2022\n",
    "\n",
    "Please complete the challenges below. \n",
    "It is totally fine to look up documentation. However please don't google for exact solutions - the stuff below is mainly there to let you show us how you think :-)\n",
    "\n",
    "You don't need to get it right first time - it is totally fine to try and fail but then try again!\n",
    "\n",
    "Just in case, to run a cell use `Ctrl+Enter`"
   ]
  },
  {
   "cell_type": "markdown",
   "metadata": {},
   "source": [
    "# Imports"
   ]
  },
  {
   "cell_type": "code",
   "execution_count": null,
   "metadata": {},
   "outputs": [],
   "source": [
    "import typing as t"
   ]
  },
  {
   "cell_type": "markdown",
   "metadata": {},
   "source": [
    "## 1. Reverse a string\n",
    "\n",
    "Complete the function below such that it returns a reversed string of input text."
   ]
  },
  {
   "cell_type": "code",
   "execution_count": null,
   "metadata": {},
   "outputs": [],
   "source": [
    "def reverse_a_string(text: str) -> str:\n",
    "    # your code may go here\n",
    "    pass\n",
    "\n",
    "\n",
    "print(reverse_a_string(\"drawer of stressed\"))"
   ]
  },
  {
   "cell_type": "markdown",
   "metadata": {},
   "source": [
    "## 2. Count words\n",
    "\n",
    "The challenge below is about the frequency of words - how many times each unique word appears in the text. Extra score for attention to details :-)"
   ]
  },
  {
   "cell_type": "code",
   "execution_count": null,
   "metadata": {},
   "outputs": [],
   "source": [
    "def count_unique_words(text: str) -> 't.Any':\n",
    "    # your code goes here\n",
    "    pass\n",
    "\n",
    "\n",
    "print(count_unique_words(\n",
    "    \"I felt happy because I saw the others were \"\n",
    "    \"happy and because I knew I should feel happy, \"\n",
    "    \"but I wasn’t really happy.\"\n",
    "))"
   ]
  },
  {
   "cell_type": "markdown",
   "metadata": {},
   "source": [
    "## 3. Compare dictionaries\n",
    "\n",
    "You get two different python dictionaries of the type `typing.Dict[str, str]`. Compute the changes between the two dictionaries. \n",
    "\n",
    "Example: \n",
    "\n",
    "```python\n",
    "old = {\n",
    "    \"attribute1\": \"x\", \n",
    "    \"attribute2\": \"x\",\n",
    "    \"attribute4\": \"x\"\n",
    "}\n",
    "new = {\n",
    "    \"attribute1\": \"x\", \n",
    "    \"attribute2\": \"y\",\n",
    "    \"attribute3\": \"x\"\n",
    "}\n",
    "```\n",
    "    \n",
    "The result can look like this, but doesn't have to:\n",
    "\n",
    "```python\n",
    "result = {\n",
    "    \"added\": [\n",
    "        \"attribute3\"\n",
    "    ], \n",
    "    \"removed\": [\n",
    "        \"attribute4\"\n",
    "    ],\n",
    "    \"modified\": [\n",
    "        \"attribute2\"\n",
    "    ]\n",
    "}\n",
    "```"
   ]
  },
  {
   "cell_type": "code",
   "execution_count": null,
   "metadata": {},
   "outputs": [],
   "source": [
    "def compare_dictionaries(old: 't.Dict[str, str]', new: 't.Dict[str, str]') -> 't.Any':\n",
    "    # your code goes here\n",
    "    pass\n",
    "\n",
    "\n",
    "old: 't.Dict[str, str]' = {\n",
    "    \"attribute1\": \"x\", \n",
    "    \"attribute2\": \"x\",\n",
    "    \"attribute4\": \"x\"\n",
    "}\n",
    "new: 't.Dict[str, str]' = {\n",
    "    \"attribute1\": \"x\", \n",
    "    \"attribute2\": \"y\",\n",
    "    \"attribute3\": \"x\"\n",
    "}\n",
    "\n",
    "compare_dictionaries(old, new)"
   ]
  },
  {
   "cell_type": "markdown",
   "metadata": {},
   "source": [
    "## 4. Validate expression\n",
    "\n",
    "Lets imagine that the expressiones fed into the function below can be valid or invalid depending on the balance in opening / closing braces. Edit the below function to make it work."
   ]
  },
  {
   "cell_type": "code",
   "execution_count": null,
   "metadata": {},
   "outputs": [],
   "source": [
    "def validate_expression(text: str) -> bool:\n",
    "    # your code goes here\n",
    "    pass\n",
    "\n",
    "\n",
    "print(\"is this ok?\", validate_expression(\"this() and (that and (this or that) or maybe something else)\"))\n",
    "print(\"is this ok?\", validate_expression(\"this() and (that(of this (and(that(and(this again)))) and (this or that) or maybe something else)\"))"
   ]
  }
 ],
 "metadata": {
  "interpreter": {
   "hash": "139fa36411a7a2ae84f534edbd24f868a6d3298f6292150c14ff640523ab66f1"
  },
  "kernelspec": {
   "display_name": "Python 3.8.5 64-bit ('jarpyvscode-NvVU5Hos-py3.8': poetry)",
   "name": "python3"
  },
  "language_info": {
   "codemirror_mode": {
    "name": "ipython",
    "version": 3
   },
   "file_extension": ".py",
   "mimetype": "text/x-python",
   "name": "python",
   "nbconvert_exporter": "python",
   "pygments_lexer": "ipython3",
   "version": "3.8.5"
  },
  "orig_nbformat": 4
 },
 "nbformat": 4,
 "nbformat_minor": 2
}
