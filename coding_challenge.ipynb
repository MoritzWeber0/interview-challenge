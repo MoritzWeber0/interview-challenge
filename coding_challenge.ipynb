{
 "cells": [
  {
   "cell_type": "markdown",
   "source": [
    "# PyIntern Challenges 2021\n",
    "\n",
    "Please complete the challenges below. It is totally fine to look up documentation however please dont google for exact solutions - the stuff below is mainly there to let you show us how you think :-)\n",
    "\n",
    "you dont need to get it right first time - it is totally fine to try and fail but then try again!\n",
    "\n",
    "Just in case, to run a cell use `Ctrl+Enter`"
   ],
   "metadata": {}
  },
  {
   "cell_type": "markdown",
   "source": [
    "# Imports"
   ],
   "metadata": {}
  },
  {
   "cell_type": "code",
   "execution_count": null,
   "source": [
    "import typing as t"
   ],
   "outputs": [],
   "metadata": {}
  },
  {
   "cell_type": "markdown",
   "source": [
    "## 1. Reverse a string\n",
    "\n",
    "Complete the function below to so that it returns a reversed string of input text"
   ],
   "metadata": {}
  },
  {
   "cell_type": "code",
   "execution_count": null,
   "source": [
    "def reverse_a_string(text: str) -> str:\n",
    "    # your code may go here\n",
    "    pass\n",
    "\n",
    "\n",
    "print(reverse_a_string(\"drawer of stressed\"))"
   ],
   "outputs": [],
   "metadata": {}
  },
  {
   "cell_type": "markdown",
   "source": [
    "## 2. Compare dictionaries\n",
    "\n",
    "You get two different python dictionaries of the Type `typing.Dict[str, str]`. Compute the changes between the two dictionaries. \n",
    "\n",
    "Example: \n",
    "\n",
    "```python\n",
    "old = {\n",
    "    \"attribute1\": \"x\", \n",
    "    \"attribute2\": \"x\"\n",
    "}\n",
    "new = {\n",
    "    \"attribute1\": \"x\", \n",
    "    \"attribute2\": \"y\",\n",
    "    \"attribute3\": \"x\"\n",
    "}\n",
    "```\n",
    "    \n",
    "The result can but not must look like this:\n",
    "\n",
    "```python\n",
    "result = {\n",
    "    \"added\": [\n",
    "        \"attribute3\"\n",
    "    ], \n",
    "    \"removed\": [],\n",
    "    \"modified\": [\n",
    "        \"attribute2\"\n",
    "    ]\n",
    "}\n",
    "```"
   ],
   "metadata": {}
  },
  {
   "cell_type": "code",
   "execution_count": null,
   "source": [
    "def compare_dictionaries(old: t.Dict[str, str], new: t.Dict[str, str]) -> t.Any:\n",
    "    # your code goes here\n",
    "    pass\n",
    "\n",
    "\n",
    "old: t.Dict[str, str] = {\n",
    "    \"attribute1\": \"x\", \n",
    "    \"attribute2\": \"x\"\n",
    "}\n",
    "new: t.Dict[str, str] = {\n",
    "    \"attribute1\": \"x\", \n",
    "    \"attribute2\": \"y\",\n",
    "    \"attribute3\": \"x\"\n",
    "}\n",
    "\n",
    "compare_dictionaries(old, new)"
   ],
   "outputs": [],
   "metadata": {}
  },
  {
   "cell_type": "markdown",
   "source": [
    "## 3. Count words\n",
    "\n",
    "The challenge below is about the frequency of words - how many times each unique word appears in the text. Extra score for attention to details :-)"
   ],
   "metadata": {}
  },
  {
   "cell_type": "code",
   "execution_count": null,
   "source": [
    "def count_unique_words(text: str) -> int:\n",
    "    # your code goes here\n",
    "    pass\n",
    "\n",
    "\n",
    "print(count_unique_words(\n",
    "    \"I felt happy because I saw the others were \"\n",
    "    \"happy and because I knew I should feel happy, \"\n",
    "    \"but I wasn’t really happy.\"\n",
    "))"
   ],
   "outputs": [],
   "metadata": {}
  },
  {
   "cell_type": "markdown",
   "source": [
    "## 3. Validate expression\n",
    "\n",
    "Lets imagine that the expressiones fed into the function below can be valid or invalid depending on the balance in opening / closing braces. Edit the below function to make it work."
   ],
   "metadata": {}
  },
  {
   "cell_type": "code",
   "execution_count": null,
   "source": [
    "def validate_expresion(text: str) -> bool:\n",
    "    return True \n",
    "\n",
    "\n",
    "print(\"is this ok?\", validate_expression(\"this() and (that and (this or that) or maybe something else)\"))\n",
    "print(\"is this ok?\", validate_expression(\"this() and (that(of this (and(that(and(this again)))) and (this or that) or maybe something else)\"))"
   ],
   "outputs": [],
   "metadata": {}
  }
 ],
 "metadata": {
  "orig_nbformat": 4,
  "language_info": {
   "name": "python",
   "version": "3.8.5",
   "mimetype": "text/x-python",
   "codemirror_mode": {
    "name": "ipython",
    "version": 3
   },
   "pygments_lexer": "ipython3",
   "nbconvert_exporter": "python",
   "file_extension": ".py"
  },
  "kernelspec": {
   "name": "python3",
   "display_name": "Python 3.8.5 64-bit ('jarpyvscode-NvVU5Hos-py3.8': poetry)"
  },
  "interpreter": {
   "hash": "139fa36411a7a2ae84f534edbd24f868a6d3298f6292150c14ff640523ab66f1"
  }
 },
 "nbformat": 4,
 "nbformat_minor": 2
}